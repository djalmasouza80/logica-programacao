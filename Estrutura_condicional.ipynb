{
  "nbformat": 4,
  "nbformat_minor": 0,
  "metadata": {
    "colab": {
      "provenance": []
    },
    "kernelspec": {
      "name": "python3",
      "display_name": "Python 3"
    },
    "language_info": {
      "name": "python"
    }
  },
  "cells": [
    {
      "cell_type": "markdown",
      "source": [
        "Condicionais:"
      ],
      "metadata": {
        "id": "lU-GS1YmTNcO"
      }
    },
    {
      "cell_type": "code",
      "source": [
        "#if\n",
        "if 5 < 10:\n",
        "  print('verdade')"
      ],
      "metadata": {
        "colab": {
          "base_uri": "https://localhost:8080/"
        },
        "id": "4yD0G16LV1Rw",
        "outputId": "3e167543-1ba7-4775-b7b3-97f69deaf428"
      },
      "execution_count": null,
      "outputs": [
        {
          "output_type": "stream",
          "name": "stdout",
          "text": [
            "verdade\n"
          ]
        }
      ]
    },
    {
      "cell_type": "code",
      "source": [
        "#If/Else\n",
        "num1 = 10\n",
        "num2 = 5\n",
        "if num1 > num2:\n",
        "  print('num1 é o mair numero')\n",
        "else:\n",
        "    print('num2 é o mair numero')"
      ],
      "metadata": {
        "colab": {
          "base_uri": "https://localhost:8080/"
        },
        "id": "wvtBeTI7XvTs",
        "outputId": "c78d0478-e93e-477a-cc32-817bc22c4958"
      },
      "execution_count": null,
      "outputs": [
        {
          "output_type": "stream",
          "name": "stdout",
          "text": [
            "num1 é o mair numero\n"
          ]
        }
      ]
    },
    {
      "cell_type": "code",
      "source": [
        "#if/elif/else\n",
        "num1 = 10\n",
        "num2 = 10\n",
        "if num1 > num2:\n",
        "  print('o num1 é o maior numero')\n",
        "elif num1 < num2:\n",
        "  print('o num2 é o maior numero')\n",
        "else:\n",
        "  print('os dois são iguais')\n",
        "\n"
      ],
      "metadata": {
        "colab": {
          "base_uri": "https://localhost:8080/"
        },
        "id": "jTAamvwra_v8",
        "outputId": "bf257f0b-34b5-4bb6-db2c-9f32bf19da95"
      },
      "execution_count": null,
      "outputs": [
        {
          "output_type": "stream",
          "name": "stdout",
          "text": [
            "os dois são iguais\n"
          ]
        }
      ]
    },
    {
      "cell_type": "code",
      "source": [
        "#if/elif/else\n",
        "num1 = 50\n",
        "num2 = 10\n",
        "if num1 > num2:\n",
        "  print('o num1 é o maior numero')\n",
        "elif num1 < num2:\n",
        "  print('o num2 é o maior numero')\n",
        "else:\n",
        "  print('os dois são iguais')\n"
      ],
      "metadata": {
        "colab": {
          "base_uri": "https://localhost:8080/"
        },
        "id": "ZQPXrUYmeM-I",
        "outputId": "6f418794-b9c3-4cb5-979a-fc28aa52f318"
      },
      "execution_count": null,
      "outputs": [
        {
          "output_type": "stream",
          "name": "stdout",
          "text": [
            "o num1 é o maior numero\n"
          ]
        }
      ]
    },
    {
      "cell_type": "markdown",
      "source": [
        "Condicionais com operadores lógicos"
      ],
      "metadata": {
        "id": "VszJ0UB6f23t"
      }
    },
    {
      "cell_type": "code",
      "source": [
        "num1 = 20\n",
        "num2 = 10\n",
        "num3 = 5\n",
        "if (num1 > num2) and (num1 > num3):\n",
        "  print('num1 é o maior numero')\n",
        "else:\n",
        "  print('num1 não é o maior numero')\n"
      ],
      "metadata": {
        "colab": {
          "base_uri": "https://localhost:8080/"
        },
        "id": "7bBf7W7Bf95a",
        "outputId": "7278f610-00b6-4745-e688-5fcaeb222ef2"
      },
      "execution_count": null,
      "outputs": [
        {
          "output_type": "stream",
          "name": "stdout",
          "text": [
            "num1 é o maior numero\n"
          ]
        },
        {
          "output_type": "execute_result",
          "data": {
            "text/plain": [
              "int"
            ]
          },
          "metadata": {},
          "execution_count": 6
        }
      ]
    },
    {
      "cell_type": "code",
      "source": [
        "num1 = 10\n",
        "num2 = 20\n",
        "num3 = 5\n",
        "if (num2 > num1) and (num2 > num3):\n",
        "  print('num2 é o maior numero')\n",
        "else:\n",
        "    print('num2 não é o maior numero')\n",
        "\n",
        "\n",
        "print('num1 vale:' , num1 , 'e num2 equivale a:',num2)\n",
        "\n",
        "\n",
        "\n",
        "\n",
        "\n"
      ],
      "metadata": {
        "colab": {
          "base_uri": "https://localhost:8080/"
        },
        "id": "VE6b40TCG8W_",
        "outputId": "817533db-9771-4f91-f676-9be479cc8b8d"
      },
      "execution_count": null,
      "outputs": [
        {
          "output_type": "stream",
          "name": "stdout",
          "text": [
            "num2 é o maior numero\n",
            "num1 vale: 10 e num2 equivale a: 20\n"
          ]
        }
      ]
    }
  ]
}