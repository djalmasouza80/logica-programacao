{
  "nbformat": 4,
  "nbformat_minor": 0,
  "metadata": {
    "colab": {
      "provenance": []
    },
    "kernelspec": {
      "name": "python3",
      "display_name": "Python 3"
    },
    "language_info": {
      "name": "python"
    }
  },
  "cells": [
    {
      "cell_type": "markdown",
      "source": [
        "Visualização de Variáveis e textos"
      ],
      "metadata": {
        "id": "GKli8NwRzANe"
      }
    },
    {
      "cell_type": "code",
      "source": [
        "print('Conecendo o comando Print')\n",
        "\n",
        "x = 8\n",
        "print(x)"
      ],
      "metadata": {
        "colab": {
          "base_uri": "https://localhost:8080/"
        },
        "id": "4fTQ0d8azRSY",
        "outputId": "698b8ad6-73d6-472d-b5c5-6f60cdefac4c"
      },
      "execution_count": null,
      "outputs": [
        {
          "output_type": "stream",
          "name": "stdout",
          "text": [
            "Conecendo o comando Print\n",
            "8\n"
          ]
        }
      ]
    },
    {
      "cell_type": "code",
      "source": [
        "y = 10\n",
        "soma = x + y\n",
        "print(soma)\n"
      ],
      "metadata": {
        "colab": {
          "base_uri": "https://localhost:8080/"
        },
        "id": "jXvLevPP1Oe6",
        "outputId": "aca5cae8-2875-47c6-acc2-4c3ccd6c80f1"
      },
      "execution_count": null,
      "outputs": [
        {
          "output_type": "stream",
          "name": "stdout",
          "text": [
            "18\n"
          ]
        }
      ]
    },
    {
      "cell_type": "code",
      "source": [
        "nome = 'Djalma souza'\n",
        "print(nome)\n"
      ],
      "metadata": {
        "colab": {
          "base_uri": "https://localhost:8080/"
        },
        "id": "RuYDI4O11fx_",
        "outputId": "a7373b98-17cc-4380-bd85-a3403ec4992e"
      },
      "execution_count": null,
      "outputs": [
        {
          "output_type": "stream",
          "name": "stdout",
          "text": [
            "Djalma souza\n"
          ]
        }
      ]
    },
    {
      "cell_type": "markdown",
      "source": [
        "Concatenção\n"
      ],
      "metadata": {
        "id": "hazcA-WK10Wn"
      }
    },
    {
      "cell_type": "code",
      "source": [
        "x = 5\n",
        "print('O valor de x é', x)"
      ],
      "metadata": {
        "colab": {
          "base_uri": "https://localhost:8080/"
        },
        "id": "8B8Xeilg2mg8",
        "outputId": "c5c5c5be-3077-4d32-9ca0-e9c0ec39cb64"
      },
      "execution_count": null,
      "outputs": [
        {
          "output_type": "stream",
          "name": "stdout",
          "text": [
            "O valor de x é 5\n"
          ]
        }
      ]
    },
    {
      "cell_type": "code",
      "source": [
        "print('O valor de x é', x, ' e o dobro é', x * 2 )"
      ],
      "metadata": {
        "colab": {
          "base_uri": "https://localhost:8080/"
        },
        "id": "x8IJnmF523jR",
        "outputId": "f1a6d114-da93-4287-813d-c7f97651e2c1"
      },
      "execution_count": null,
      "outputs": [
        {
          "output_type": "stream",
          "name": "stdout",
          "text": [
            "O valor de x é 5  e o dobro é 10\n"
          ]
        }
      ]
    },
    {
      "cell_type": "code",
      "source": [
        "print('Eu,', nome, 'tirei',x , 'na prova de Pyton')"
      ],
      "metadata": {
        "colab": {
          "base_uri": "https://localhost:8080/"
        },
        "id": "ushOPleh3S7U",
        "outputId": "3becd892-8c2a-4def-b103-fa3e1fdc703d"
      },
      "execution_count": null,
      "outputs": [
        {
          "output_type": "stream",
          "name": "stdout",
          "text": [
            "Eu, Djalma souza tirei 5 na prova de Pyton\n"
          ]
        }
      ]
    },
    {
      "cell_type": "code",
      "source": [
        "y = 10; z = 20 + x - y\n",
        "print('colocar várias variáveis na mesma linha:',y ,z)"
      ],
      "metadata": {
        "colab": {
          "base_uri": "https://localhost:8080/"
        },
        "id": "7nSTHDBn3k6V",
        "outputId": "60d219d7-8be8-4583-ff9b-f84bf0af7c2e"
      },
      "execution_count": null,
      "outputs": [
        {
          "output_type": "stream",
          "name": "stdout",
          "text": [
            "colocar várias variáveis na mesma linha: 10 15\n"
          ]
        }
      ]
    },
    {
      "cell_type": "markdown",
      "source": [
        "Type"
      ],
      "metadata": {
        "id": "OWmJL1DK6jjg"
      }
    },
    {
      "cell_type": "code",
      "source": [
        "x = 10\n",
        "type(x)\n",
        "print('x' , type(x))\n",
        "\n",
        "nome = 'Djalma'\n",
        "print('nome', type(nome))\n",
        "\n",
        "num = '100'\n",
        "num_convert = int(num)   # converter variável\n",
        "print('num' , type(num))\n",
        "print('num_convert', type(num_convert))\n",
        "num_float = float(num)\n",
        "print('num_float', num_float)\n",
        "\n",
        "\n",
        "\n"
      ],
      "metadata": {
        "colab": {
          "base_uri": "https://localhost:8080/"
        },
        "id": "NzGV4tSB6mBK",
        "outputId": "23572431-3246-4fef-978a-1edb994e7959"
      },
      "execution_count": null,
      "outputs": [
        {
          "output_type": "stream",
          "name": "stdout",
          "text": [
            "x <class 'int'>\n",
            "nome <class 'str'>\n",
            "num <class 'str'>\n",
            "num_convert <class 'int'>\n",
            "num_float 100.0\n"
          ]
        }
      ]
    },
    {
      "cell_type": "code",
      "source": [
        "num = 1000\n",
        "type(num)"
      ],
      "metadata": {
        "colab": {
          "base_uri": "https://localhost:8080/"
        },
        "id": "kYO2eQWuAsG9",
        "outputId": "0691b1d6-6d81-4c90-ff3c-0ecc438f0ec5"
      },
      "execution_count": null,
      "outputs": [
        {
          "output_type": "execute_result",
          "data": {
            "text/plain": [
              "int"
            ]
          },
          "metadata": {},
          "execution_count": 6
        }
      ]
    },
    {
      "cell_type": "code",
      "source": [
        "num_convert = float(num)\n",
        "print('num' , type(num))\n",
        "print('num_convert' , type(num_convert))"
      ],
      "metadata": {
        "colab": {
          "base_uri": "https://localhost:8080/"
        },
        "id": "bLN1XwaCA2it",
        "outputId": "6fa2d13a-fa16-4bb1-9fd5-fa7626727dc9"
      },
      "execution_count": null,
      "outputs": [
        {
          "output_type": "stream",
          "name": "stdout",
          "text": [
            "num <class 'int'>\n",
            "num_convert <class 'float'>\n"
          ]
        }
      ]
    },
    {
      "cell_type": "markdown",
      "source": [
        "Input\n",
        "* Armazenar a informação digitada pelo usuário em uma variável.\n",
        "* O Dado armazenado sempre será um texto.\n"
      ],
      "metadata": {
        "id": "b0vEVQ0rDC2_"
      }
    },
    {
      "cell_type": "code",
      "source": [
        "nome = input('digite o nome de usuário:')\n",
        "print(nome)\n",
        "\n"
      ],
      "metadata": {
        "colab": {
          "base_uri": "https://localhost:8080/"
        },
        "id": "s5s9kpNuDixB",
        "outputId": "32aa58e6-21f5-4506-e0cf-56c27878957d"
      },
      "execution_count": null,
      "outputs": [
        {
          "output_type": "stream",
          "name": "stdout",
          "text": [
            "digite o nome de usuário:Djalma\n",
            "Djalma\n"
          ]
        }
      ]
    },
    {
      "cell_type": "code",
      "source": [
        "valor = input('digite o valor do produto: ')\n",
        "print(valor)"
      ],
      "metadata": {
        "colab": {
          "base_uri": "https://localhost:8080/"
        },
        "id": "dKVI4j-UEMTN",
        "outputId": "e2852ec9-40eb-4fac-e5bf-1951ebfcaf59"
      },
      "execution_count": null,
      "outputs": [
        {
          "output_type": "stream",
          "name": "stdout",
          "text": [
            "digite o valor do produto: 10\n",
            "10\n"
          ]
        }
      ]
    },
    {
      "cell_type": "code",
      "source": [
        "desconto = input('digite o valor do desconto:' )\n"
      ],
      "metadata": {
        "id": "xamVccn3PjV7",
        "colab": {
          "base_uri": "https://localhost:8080/"
        },
        "outputId": "ac8725a5-9211-4b17-eece-41294cdc7884"
      },
      "execution_count": null,
      "outputs": [
        {
          "name": "stdout",
          "output_type": "stream",
          "text": [
            "digite o valor do desconto:10\n"
          ]
        }
      ]
    },
    {
      "cell_type": "code",
      "source": [
        "desconto = valor - 5"
      ],
      "metadata": {
        "colab": {
          "base_uri": "https://localhost:8080/",
          "height": 141
        },
        "id": "O5HLNUciQFBf",
        "outputId": "c1ee8809-36ce-4482-fb15-a96baecd16d1"
      },
      "execution_count": null,
      "outputs": [
        {
          "output_type": "error",
          "ename": "TypeError",
          "evalue": "unsupported operand type(s) for -: 'str' and 'int'",
          "traceback": [
            "\u001b[0;31m---------------------------------------------------------------------------\u001b[0m",
            "\u001b[0;31mTypeError\u001b[0m                                 Traceback (most recent call last)",
            "\u001b[0;32m<ipython-input-22-2e29d7dd191a>\u001b[0m in \u001b[0;36m<cell line: 1>\u001b[0;34m()\u001b[0m\n\u001b[0;32m----> 1\u001b[0;31m \u001b[0mdesconto\u001b[0m \u001b[0;34m=\u001b[0m \u001b[0mvalor\u001b[0m \u001b[0;34m-\u001b[0m \u001b[0;36m5\u001b[0m\u001b[0;34m\u001b[0m\u001b[0;34m\u001b[0m\u001b[0m\n\u001b[0m",
            "\u001b[0;31mTypeError\u001b[0m: unsupported operand type(s) for -: 'str' and 'int'"
          ]
        }
      ]
    },
    {
      "cell_type": "code",
      "source": [
        "valor_convert = int(valor)\n",
        "desconto = valor_convert - 5\n",
        "print(desconto)\n"
      ],
      "metadata": {
        "colab": {
          "base_uri": "https://localhost:8080/"
        },
        "id": "NmFR6guCQN_P",
        "outputId": "b3b02ad7-635c-47a3-bb72-2620ecba806d"
      },
      "execution_count": null,
      "outputs": [
        {
          "output_type": "stream",
          "name": "stdout",
          "text": [
            "5\n"
          ]
        }
      ]
    }
  ]
}